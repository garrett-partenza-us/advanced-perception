{
 "cells": [
  {
   "cell_type": "code",
   "execution_count": 1,
   "id": "1b41d3a0",
   "metadata": {},
   "outputs": [
    {
     "name": "stdout",
     "output_type": "stream",
     "text": [
      "Untitled.ipynb      make_histograms.py  train.pkl\r\n"
     ]
    }
   ],
   "source": [
    "ls"
   ]
  },
  {
   "cell_type": "code",
   "execution_count": 2,
   "id": "2a24a73f",
   "metadata": {},
   "outputs": [],
   "source": [
    "import pickle\n",
    "with open('train.pkl', 'rb') as f:\n",
    "    data = pickle.load(f)"
   ]
  },
  {
   "cell_type": "code",
   "execution_count": 3,
   "id": "65833326",
   "metadata": {},
   "outputs": [
    {
     "name": "stdout",
     "output_type": "stream",
     "text": [
      "            image                                          histogram  \\\n",
      "0     02_8405.png  [1. 1. 1. 1. 1. 1. 1. 1. 1. 1. 1. 0. 0. 0. 0. ...   \n",
      "1     14_1150.png  [1. 1. 1. 1. 1. 1. 1. 1. 1. 1. 1. 1. 1. 1. 1. ...   \n",
      "2     20_3040.png  [1. 1. 1. 1. 1. 1. 1. 1. 1. 1. 1. 1. 1. 1. 1. ...   \n",
      "3     00_2851.png  [1. 1. 1. 1. 1. 0. 0. 0. 1. 1. 1. 1. 1. 0. 0. ...   \n",
      "4     00_1155.png  [1. 1. 1. 0. 0. 0. 0. 0. 1. 1. 1. 1. 0. 0. 0. ...   \n",
      "...           ...                                                ...   \n",
      "1767  09_0655.png  [1. 1. 1. 1. 1. 1. 1. 1. 1. 1. 1. 1. 1. 1. 0. ...   \n",
      "1768  13_0867.png  [1. 1. 1. 1. 1. 1. 1. 1. 0. 1. 1. 1. 1. 1. 1. ...   \n",
      "1769  00_0780.png  [1. 1. 1. 1. 0. 0. 0. 0. 1. 1. 1. 1. 1. 0. 0. ...   \n",
      "1770  04_9953.png  [1. 1. 1. 1. 1. 1. 1. 1. 0. 1. 1. 1. 1. 1. 1. ...   \n",
      "1771  00_1435.png  [1. 1. 1. 1. 1. 1. 0. 0. 1. 1. 1. 1. 1. 1. 1. ...   \n",
      "\n",
      "                                         label  \n",
      "0     [0.1540452189244683, 0.4437934196888544]  \n",
      "1     [0.2105055440251333, 0.4688785106181658]  \n",
      "2     [0.2144004066496512, 0.4718753802502206]  \n",
      "3     [0.3925859875664444, 0.4564801625733645]  \n",
      "4     [0.3843954201325761, 0.4583171424305422]  \n",
      "...                                        ...  \n",
      "1767   [0.197816574302142, 0.4674274099595503]  \n",
      "1768  [0.2092140637406101, 0.4680704771662165]  \n",
      "1769  [0.3800122381154305, 0.4623613842315776]  \n",
      "1770  [0.2003603457248145, 0.4682958343659584]  \n",
      "1771  [0.2960378178366521, 0.5040405817530036]  \n",
      "\n",
      "[1772 rows x 3 columns]\n"
     ]
    }
   ],
   "source": [
    "print(data)"
   ]
  },
  {
   "cell_type": "code",
   "execution_count": null,
   "id": "afd37d8d",
   "metadata": {},
   "outputs": [],
   "source": []
  }
 ],
 "metadata": {
  "kernelspec": {
   "display_name": "Python 3 (ipykernel)",
   "language": "python",
   "name": "python3"
  },
  "language_info": {
   "codemirror_mode": {
    "name": "ipython",
    "version": 3
   },
   "file_extension": ".py",
   "mimetype": "text/x-python",
   "name": "python",
   "nbconvert_exporter": "python",
   "pygments_lexer": "ipython3",
   "version": "3.8.5"
  }
 },
 "nbformat": 4,
 "nbformat_minor": 5
}
