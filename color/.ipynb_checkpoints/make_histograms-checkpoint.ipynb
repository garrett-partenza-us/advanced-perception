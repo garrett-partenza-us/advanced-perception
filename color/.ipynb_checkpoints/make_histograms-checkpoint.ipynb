{
 "cells": [
  {
   "cell_type": "code",
   "execution_count": 3,
   "id": "0f31b76c-44ea-40f1-bdce-e8eb27b55aa6",
   "metadata": {},
   "outputs": [
    {
     "name": "stdout",
     "output_type": "stream",
     "text": [
      "--2022-09-26 10:52:27--  https://zenodo.org/record/4153431/files/SimpleCube++.zip\n",
      "Connecting to 10.99.0.130:3128... connected.\n",
      "Proxy request sent, awaiting response... 200 OK\n",
      "Length: 2113441199 (2.0G) [application/octet-stream]\n",
      "Saving to: ‘SimpleCube++.zip’\n",
      "\n",
      "100%[====================================>] 2,113,441,199 30.7MB/s   in 84s    \n",
      "\n",
      "2022-09-26 10:53:53 (24.0 MB/s) - ‘SimpleCube++.zip’ saved [2113441199/2113441199]\n",
      "\n"
     ]
    }
   ],
   "source": [
    "!wget https://zenodo.org/record/4153431/files/SimpleCube++.zip"
   ]
  },
  {
   "cell_type": "code",
   "execution_count": 117,
   "id": "4e1cd4af-bfc1-4d9d-87a6-45387600d59f",
   "metadata": {},
   "outputs": [],
   "source": [
    "import cv2\n",
    "import pandas as pd\n",
    "import os\n",
    "from tqdm import tqdm\n",
    "\n",
    "dataset_path = \"SimpleCube++/\"\n",
    "\n",
    "gt = pd.read_csv(\"SimpleCube++/train/gt.csv\")\n",
    "\n",
    "cam2rgb = np.array([\n",
    "        1.8795, -1.0326, 0.1531,\n",
    "        -0.2198, 1.7153, -0.4955,\n",
    "        0.0069, -0.5150, 1.5081,]).reshape((3, 3))"
   ]
  },
  {
   "cell_type": "code",
   "execution_count": 118,
   "id": "0e0a6bff-00b8-41ff-8c02-5bf1057bd0c6",
   "metadata": {},
   "outputs": [],
   "source": [
    "def linearize(img, black_lvl=2048, saturation_lvl=2**14-1):\n",
    "    \"\"\"\n",
    "    remove black level and saturation according to paper\n",
    "    \"\"\"\n",
    "    return np.clip((img - black_lvl)/(saturation_lvl - black_lvl), 0, 1)\n",
    "\n",
    "\n",
    "def adjust(cam, img, ilum):\n",
    "    \"\"\"\n",
    "    adjust the illumination to cannonical ground truth\n",
    "    gt[gt[\"image\"]==img.split(\".\")[0]].to_numpy().flatten()[1:]\n",
    "    \"\"\"\n",
    "    return np.clip(cam/illum, 0, 1)\n",
    "\n",
    "    \n",
    "def to_rgb(cam):\n",
    "    \"\"\"\n",
    "    https://github.com/Visillect/CubePlusPlus/blob/master/challenge/make_preview.py\n",
    "    \"\"\"\n",
    "    cam = np.dot(cam, cam2rgb.T)\n",
    "    return np.clip(cam, 0, 1)**(1/2.2)\n",
    "\n",
    "\n",
    "def denormalize(cam):\n",
    "    \"\"\"\n",
    "    scale from 0-1 range to 0-255 range\n",
    "    \"\"\"\n",
    "    return (cam*255).astype(np.uint8)"
   ]
  },
  {
   "cell_type": "code",
   "execution_count": 196,
   "id": "40c8317b-865e-49f3-9bb3-785ade041bd5",
   "metadata": {},
   "outputs": [],
   "source": [
    "def binarize(cam, steps=64):\n",
    "    cam = cam.reshape(cam.shape[0]*cam.shape[1], -1)\n",
    "    \n",
    "    rg_coords = []\n",
    "    \n",
    "    for pix_idx in range(cam.shape[0]):\n",
    "        r = cam[pix_idx][0]\n",
    "        g = cam[pix_idx][1]\n",
    "        rg_coords.append((r,g))\n",
    "        \n",
    "    rg_df = pd.DataFrame(rg_coords, columns=[\"r\", \"g\"])\n",
    "    \n",
    "    rg_df = rg_df.assign(\n",
    "        r_cut=pd.cut(rg_df.r, np.sqrt(steps).astype(int), labels=list(range(0,np.sqrt(steps).astype(int)))),\n",
    "        g_cut=pd.cut(rg_df.g, np.sqrt(steps).astype(int), labels=list(range(0,np.sqrt(steps).astype(int))))\n",
    "    )\n",
    "    \n",
    "    step_coords = list(zip(rg_df.r_cut, rg_df.g_cut))\n",
    "    step_coords = set(step_coords)\n",
    "    \n",
    "    hist = np.zeros((np.sqrt(steps).astype(int), np.sqrt(steps).astype(int)))\n",
    "    \n",
    "    for x in range(np.sqrt(steps).astype(int)):\n",
    "        for y in range(np.sqrt(steps).astype(int)):\n",
    "            if (x,y) in step_coords:\n",
    "                hist[x][y]=1\n",
    "                \n",
    "    return hist.flatten()"
   ]
  },
  {
   "cell_type": "code",
   "execution_count": 201,
   "id": "20893be1-57c3-4faa-a2f2-c20bd92a63cd",
   "metadata": {},
   "outputs": [],
   "source": [
    "hists = []\n",
    "\n",
    "for img in tqdm(os.listdir(dataset_path+\"train/PNG\")):\n",
    "    \n",
    "    #read image\n",
    "    cam = cv2.imread(png_path+img, cv2.IMREAD_UNCHANGED)\n",
    "    #bgr -> rgb\n",
    "    cam = cv2.cvtColor(cam, cv2.COLOR_BGR2RGB)\n",
    "    #uint16 -> float64\n",
    "    cam = cam.astype(np.float64)\n",
    "    #black level and saturation\n",
    "    cam = linearize(cam)\n",
    "    #not sure what this step means\n",
    "    cam = to_rgb(cam)\n",
    "    \n",
    "    #compute binary histogram\n",
    "    hist = binarize(cam, steps=64)\n",
    "    \n",
    "    hists.append((img, hist))\n",
    "    \n",
    "    break\n",
    "    \n",
    "hist_df = pd.DataFrame(hists, columns=[\"image\", \"histogram\"])\n",
    "hist_df.to_csv(\"histograms_train.csv\")"
   ]
  },
  {
   "cell_type": "code",
   "execution_count": null,
   "id": "3f3b4bc6-7670-4c9f-9225-b04b6f5a5246",
   "metadata": {},
   "outputs": [],
   "source": []
  }
 ],
 "metadata": {
  "kernelspec": {
   "display_name": "pytorch_env",
   "language": "python",
   "name": "pytorch_env"
  },
  "language_info": {
   "codemirror_mode": {
    "name": "ipython",
    "version": 3
   },
   "file_extension": ".py",
   "mimetype": "text/x-python",
   "name": "python",
   "nbconvert_exporter": "python",
   "pygments_lexer": "ipython3",
   "version": "3.7.13"
  }
 },
 "nbformat": 4,
 "nbformat_minor": 5
}
