{
 "cells": [
  {
   "cell_type": "code",
   "execution_count": 10,
   "id": "1e7e8ad3-d663-446a-934a-75dfeacaf15e",
   "metadata": {},
   "outputs": [],
   "source": [
    "import torch\n",
    "from torch import nn\n",
    "from einops import rearrange\n",
    "\n",
    "\n",
    "class FeedForward(nn.Module):\n",
    "    def __init__(self, dim, hidden_dim, last):\n",
    "        super().__init__()\n",
    "        if not last:\n",
    "            last=dim\n",
    "        self.net = nn.Sequential(\n",
    "            nn.LayerNorm(dim),\n",
    "            nn.Linear(dim, hidden_dim),\n",
    "            nn.GELU(),\n",
    "            nn.Linear(hidden_dim, last),\n",
    "        )\n",
    "    def forward(self, x):\n",
    "        return self.net(x)\n",
    "\n",
    "    \n",
    "class Attention(nn.Module):\n",
    "    def __init__(self, dim, heads = 8, dim_head = 64):\n",
    "        super().__init__()\n",
    "        inner_dim = dim_head *  heads\n",
    "        self.heads = heads\n",
    "        self.scale = dim_head ** -0.5\n",
    "        self.norm = nn.LayerNorm(dim)\n",
    "\n",
    "        self.attend = nn.Softmax(dim = -1)\n",
    "\n",
    "        self.to_qkv = nn.Linear(dim, inner_dim * 3, bias = False)\n",
    "        self.to_out = nn.Linear(inner_dim, dim, bias = False)\n",
    "\n",
    "    def forward(self, x):\n",
    "        x = self.norm(x)\n",
    "\n",
    "        qkv = self.to_qkv(x).chunk(3, dim = -1)\n",
    "        q, k, v = map(lambda t: rearrange(t, 'b n (h d) -> b h n d', h = self.heads), qkv)\n",
    "\n",
    "        dots = torch.matmul(q, k.transpose(-1, -2)) * self.scale\n",
    "\n",
    "        attn = self.attend(dots)\n",
    "\n",
    "        out = torch.matmul(attn, v)\n",
    "        out = rearrange(out, 'b h n d -> b n (h d)')\n",
    "        return self.to_out(out)\n",
    "\n",
    "    \n",
    "class Transformer(nn.Module):\n",
    "    def __init__(self, dim, depth, heads, dim_head, mlp_dim, out_dim):\n",
    "        super().__init__()\n",
    "        self.layers = nn.ModuleList([])\n",
    "        self.depth = depth\n",
    "        for d in range(depth):\n",
    "            if d == depth-1:\n",
    "                last=out_dim\n",
    "            else: \n",
    "                last=None\n",
    "            self.layers.append(nn.ModuleList([\n",
    "                Attention(dim, heads = heads, dim_head = dim_head),\n",
    "                FeedForward(dim, mlp_dim, last)\n",
    "            ]))\n",
    "    def forward(self, x):\n",
    "        for d in range(self.depth):\n",
    "            attn, ff = self.layers[d]\n",
    "            x = attn(x) + x\n",
    "            x = ff(x)\n",
    "            if d!=self.depth-1:\n",
    "                x+=x\n",
    "        return x"
   ]
  },
  {
   "cell_type": "code",
   "execution_count": 14,
   "id": "f8ff8606-05d7-4166-a404-826a4499230d",
   "metadata": {},
   "outputs": [],
   "source": [
    "x = torch.randn(1, 8, 3, 400, 400) # batch, frames, channels, h, w \n",
    "x = x.reshape(1, 256, 8, 3, 25, 25) # split int 256 25x25 patches"
   ]
  },
  {
   "cell_type": "code",
   "execution_count": 17,
   "id": "a1a87972-531f-4cbd-b3e7-2a964bf4b4de",
   "metadata": {},
   "outputs": [
    {
     "data": {
      "text/plain": [
       "torch.Size([1024])"
      ]
     },
     "execution_count": 17,
     "metadata": {},
     "output_type": "execute_result"
    }
   ],
   "source": [
    "# example of convnet to flatten into vector\n",
    "\n",
    "conv1 = nn.Conv2d(3, 32, 5, 1)\n",
    "conv2 = nn.Conv2d(32, 128, 3, 3)\n",
    "conv3 = nn.Conv2d(128, 256, 3, 3)\n",
    "\n",
    "batch_idx = 0\n",
    "patch = 0\n",
    "frame = 0\n",
    "\n",
    "patch = x[batch_idx, patch, frame,:]\n",
    "res = conv1(patch)\n",
    "res = conv2(res)\n",
    "res = conv3(res)\n",
    "res = res.flatten()\n",
    "res.shape"
   ]
  },
  {
   "cell_type": "code",
   "execution_count": 24,
   "id": "6bf4dc33-4e31-43a9-9ba1-89fe849e4fc2",
   "metadata": {},
   "outputs": [],
   "source": [
    "x = torch.rand(1,256,8,1024) # batch, patches, frames, features"
   ]
  },
  {
   "cell_type": "code",
   "execution_count": 19,
   "id": "aebf088e-a611-483f-9046-2eeae1da25b6",
   "metadata": {},
   "outputs": [],
   "source": [
    "t = Transformer(dim=1024, depth=6, heads=8, dim_head=64, mlp_dim=2048, out_dim=1536) # transformer"
   ]
  },
  {
   "cell_type": "code",
   "execution_count": 25,
   "id": "36fa6dff-b652-4277-be8d-3c35606e7632",
   "metadata": {},
   "outputs": [
    {
     "data": {
      "text/plain": [
       "torch.Size([1, 8, 1536])"
      ]
     },
     "execution_count": 25,
     "metadata": {},
     "output_type": "execute_result"
    }
   ],
   "source": [
    "# example of applying transformer across frames\n",
    "patch = 0\n",
    "res = x[:, patch, :, :]\n",
    "x = t(res)\n",
    "x.shape"
   ]
  },
  {
   "cell_type": "code",
   "execution_count": 28,
   "id": "8d34150b-ff67-425f-9d76-d49548fe5cb2",
   "metadata": {},
   "outputs": [
    {
     "data": {
      "text/plain": [
       "torch.Size([1, 3, 64, 64])"
      ]
     },
     "execution_count": 28,
     "metadata": {},
     "output_type": "execute_result"
    }
   ],
   "source": [
    "x = x.reshape(1,3,64,64) #reshape to higher resolution image patch\n",
    "x.shape"
   ]
  },
  {
   "cell_type": "code",
   "execution_count": null,
   "id": "cf4810b8-0a5d-45ac-9070-eb6d05683608",
   "metadata": {},
   "outputs": [],
   "source": []
  }
 ],
 "metadata": {
  "kernelspec": {
   "display_name": "worldstrat",
   "language": "python",
   "name": "worldstrat"
  },
  "language_info": {
   "codemirror_mode": {
    "name": "ipython",
    "version": 3
   },
   "file_extension": ".py",
   "mimetype": "text/x-python",
   "name": "python",
   "nbconvert_exporter": "python",
   "pygments_lexer": "ipython3",
   "version": "3.9.12"
  }
 },
 "nbformat": 4,
 "nbformat_minor": 5
}
