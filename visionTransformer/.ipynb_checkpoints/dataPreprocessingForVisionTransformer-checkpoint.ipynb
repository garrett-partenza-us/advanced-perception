{
 "cells": [
  {
   "cell_type": "code",
   "execution_count": 28,
   "metadata": {},
   "outputs": [
    {
     "data": {
      "text/plain": [
       "'/Users/jamie/Downloads/worldstrat'"
      ]
     },
     "execution_count": 28,
     "metadata": {},
     "output_type": "execute_result"
    }
   ],
   "source": [
    "pwd"
   ]
  },
  {
   "cell_type": "code",
   "execution_count": 2,
   "metadata": {},
   "outputs": [
    {
     "name": "stdout",
     "output_type": "stream",
     "text": [
      "/Users/jamie\n"
     ]
    }
   ],
   "source": [
    "cd ~"
   ]
  },
  {
   "cell_type": "code",
   "execution_count": 3,
   "metadata": {},
   "outputs": [
    {
     "name": "stdout",
     "output_type": "stream",
     "text": [
      "/Users/jamie/Downloads\n"
     ]
    }
   ],
   "source": [
    "cd downloads"
   ]
  },
  {
   "cell_type": "code",
   "execution_count": 4,
   "metadata": {},
   "outputs": [
    {
     "name": "stdout",
     "output_type": "stream",
     "text": [
      "Cloning into 'worldstrat'...\n",
      "remote: Enumerating objects: 109, done.\u001b[K\n",
      "remote: Counting objects: 100% (49/49), done.\u001b[K\n",
      "remote: Compressing objects: 100% (30/30), done.\u001b[K\n",
      "remote: Total 109 (delta 24), reused 38 (delta 19), pack-reused 60\u001b[K\n",
      "Receiving objects: 100% (109/109), 29.53 MiB | 606.00 KiB/s, done.\n",
      "Resolving deltas: 100% (25/25), done.\n"
     ]
    }
   ],
   "source": [
    "!git clone https://github.com/worldstrat/worldstrat"
   ]
  },
  {
   "cell_type": "code",
   "execution_count": 5,
   "metadata": {},
   "outputs": [
    {
     "name": "stdout",
     "output_type": "stream",
     "text": [
      "/Users/jamie/Downloads/worldstrat\n"
     ]
    }
   ],
   "source": [
    "%cd worldstrat"
   ]
  },
  {
   "cell_type": "code",
   "execution_count": 6,
   "metadata": {},
   "outputs": [
    {
     "name": "stdout",
     "output_type": "stream",
     "text": [
      "Collecting geographiclib\n",
      "  Downloading geographiclib-2.0-py3-none-any.whl (40 kB)\n",
      "\u001b[K     |████████████████████████████████| 40 kB 751 kB/s eta 0:00:01\n",
      "\u001b[?25hRequirement already satisfied: tqdm in /Users/jamie/opt/anaconda3/lib/python3.8/site-packages (from -r requirements.txt (line 2)) (4.62.3)\n",
      "Collecting shapely\n",
      "  Downloading Shapely-1.8.5.post1-cp38-cp38-macosx_10_9_x86_64.whl (1.2 MB)\n",
      "\u001b[K     |████████████████████████████████| 1.2 MB 502 kB/s eta 0:00:01\n",
      "\u001b[?25hCollecting pyproj\n",
      "  Downloading pyproj-3.4.0-cp38-cp38-macosx_10_9_x86_64.whl (8.0 MB)\n",
      "\u001b[K     |████████████████████████████████| 8.0 MB 1.2 MB/s eta 0:00:01\n",
      "\u001b[?25hRequirement already satisfied: pandas in /Users/jamie/opt/anaconda3/lib/python3.8/site-packages (from -r requirements.txt (line 5)) (1.3.5)\n",
      "Collecting swifter\n",
      "  Downloading swifter-1.3.4.tar.gz (830 kB)\n",
      "\u001b[K     |████████████████████████████████| 830 kB 1.2 MB/s eta 0:00:01\n",
      "\u001b[?25hRequirement already satisfied: requests in /Users/jamie/opt/anaconda3/lib/python3.8/site-packages (from -r requirements.txt (line 7)) (2.27.1)\n",
      "Collecting sentinelhub\n",
      "  Downloading sentinelhub-3.8.0.tar.gz (218 kB)\n",
      "\u001b[K     |████████████████████████████████| 218 kB 1.3 MB/s eta 0:00:01\n",
      "\u001b[?25h  Installing build dependencies ... \u001b[?25ldone\n",
      "\u001b[?25h  Getting requirements to build wheel ... \u001b[?25ldone\n",
      "\u001b[?25h    Preparing wheel metadata ... \u001b[?25ldone\n",
      "\u001b[?25hCollecting folium\n",
      "  Downloading folium-0.13.0-py2.py3-none-any.whl (96 kB)\n",
      "\u001b[K     |████████████████████████████████| 96 kB 321 kB/s eta 0:00:01\n",
      "\u001b[?25hCollecting geopandas\n",
      "  Downloading geopandas-0.12.1-py3-none-any.whl (1.1 MB)\n",
      "\u001b[K     |████████████████████████████████| 1.1 MB 39 kB/s eta 0:00:011\n",
      "\u001b[?25hCollecting plotnine\n",
      "  Downloading plotnine-0.10.1-py3-none-any.whl (1.2 MB)\n",
      "\u001b[K     |████████████████████████████████| 1.2 MB 691 kB/s eta 0:00:01\n",
      "\u001b[?25hRequirement already satisfied: numpy in /Users/jamie/opt/anaconda3/lib/python3.8/site-packages (from -r requirements.txt (line 12)) (1.20.3)\n",
      "Collecting pytorch-lightning\n",
      "  Downloading pytorch_lightning-1.8.0.post1-py3-none-any.whl (796 kB)\n",
      "\u001b[K     |████████████████████████████████| 796 kB 919 kB/s eta 0:00:01\n",
      "\u001b[?25hCollecting wandb\n",
      "  Downloading wandb-0.13.4-py2.py3-none-any.whl (1.9 MB)\n",
      "\u001b[K     |████████████████████████████████| 1.9 MB 1.1 MB/s eta 0:00:01\n",
      "\u001b[?25hRequirement already satisfied: torchvision in /Users/jamie/opt/anaconda3/lib/python3.8/site-packages (from -r requirements.txt (line 15)) (0.8.0a0)\n",
      "Requirement already satisfied: setuptools in /Users/jamie/opt/anaconda3/lib/python3.8/site-packages (from -r requirements.txt (line 16)) (58.0.4)\n",
      "Collecting natsort\n",
      "  Downloading natsort-8.2.0-py3-none-any.whl (37 kB)\n",
      "Collecting rasterio\n",
      "  Downloading rasterio-1.3.3-cp38-cp38-macosx_10_15_x86_64.whl (30.9 MB)\n",
      "\u001b[K     |████████████████████████████████| 30.9 MB 1.3 MB/s eta 0:00:01\n",
      "\u001b[?25hCollecting kornia\n",
      "  Downloading kornia-0.6.8-py2.py3-none-any.whl (551 kB)\n",
      "\u001b[K     |████████████████████████████████| 551 kB 924 kB/s eta 0:00:01\n",
      "\u001b[?25hCollecting lightning-bolts\n",
      "  Downloading lightning_bolts-0.5.0-py3-none-any.whl (316 kB)\n",
      "\u001b[K     |████████████████████████████████| 316 kB 1.2 MB/s eta 0:00:01\n",
      "\u001b[?25hCollecting eo-learn\n",
      "  Downloading eo_learn-1.3.0-py3-none-any.whl (7.4 kB)\n",
      "Collecting pytorch-msssim\n",
      "  Downloading pytorch_msssim-0.2.1-py3-none-any.whl (7.2 kB)\n",
      "Collecting global_land_mask\n",
      "  Downloading global_land_mask-1.0.0-py3-none-any.whl (1.8 MB)\n",
      "\u001b[K     |████████████████████████████████| 1.8 MB 1.2 MB/s eta 0:00:01\n",
      "\u001b[?25hCollecting opencv-python==4.5.5.64\n",
      "  Downloading opencv_python-4.5.5.64-cp36-abi3-macosx_10_15_x86_64.whl (46.3 MB)\n",
      "\u001b[K     |████████████████████████████████| 46.3 MB 1.3 MB/s eta 0:00:01\n",
      "\u001b[?25hRequirement already satisfied: certifi in /Users/jamie/opt/anaconda3/lib/python3.8/site-packages (from pyproj->-r requirements.txt (line 4)) (2021.10.8)\n",
      "Requirement already satisfied: python-dateutil>=2.7.3 in /Users/jamie/opt/anaconda3/lib/python3.8/site-packages (from pandas->-r requirements.txt (line 5)) (2.8.2)\n",
      "Requirement already satisfied: pytz>=2017.3 in /Users/jamie/opt/anaconda3/lib/python3.8/site-packages (from pandas->-r requirements.txt (line 5)) (2021.3)\n",
      "Requirement already satisfied: psutil>=5.6.6 in /Users/jamie/opt/anaconda3/lib/python3.8/site-packages (from swifter->-r requirements.txt (line 6)) (5.8.0)\n",
      "Requirement already satisfied: dask[dataframe]>=2.10.0 in /Users/jamie/opt/anaconda3/lib/python3.8/site-packages (from swifter->-r requirements.txt (line 6)) (2021.10.0)\n",
      "Requirement already satisfied: ipywidgets>=7.0.0 in /Users/jamie/opt/anaconda3/lib/python3.8/site-packages (from swifter->-r requirements.txt (line 6)) (7.6.5)\n",
      "Requirement already satisfied: cloudpickle>=0.2.2 in /Users/jamie/opt/anaconda3/lib/python3.8/site-packages (from swifter->-r requirements.txt (line 6)) (2.0.0)\n",
      "Requirement already satisfied: parso>0.4.0 in /Users/jamie/opt/anaconda3/lib/python3.8/site-packages (from swifter->-r requirements.txt (line 6)) (0.7.0)\n",
      "Requirement already satisfied: bleach>=3.1.1 in /Users/jamie/opt/anaconda3/lib/python3.8/site-packages (from swifter->-r requirements.txt (line 6)) (4.1.0)\n",
      "Requirement already satisfied: urllib3<1.27,>=1.21.1 in /Users/jamie/opt/anaconda3/lib/python3.8/site-packages (from requests->-r requirements.txt (line 7)) (1.26.7)\n",
      "Requirement already satisfied: idna<4,>=2.5 in /Users/jamie/opt/anaconda3/lib/python3.8/site-packages (from requests->-r requirements.txt (line 7)) (3.3)\n",
      "Requirement already satisfied: charset-normalizer~=2.0.0 in /Users/jamie/opt/anaconda3/lib/python3.8/site-packages (from requests->-r requirements.txt (line 7)) (2.0.4)\n",
      "Requirement already satisfied: typing-extensions in /Users/jamie/opt/anaconda3/lib/python3.8/site-packages (from sentinelhub->-r requirements.txt (line 8)) (3.10.0.2)\n",
      "Collecting oauthlib\n",
      "  Downloading oauthlib-3.2.2-py3-none-any.whl (151 kB)\n",
      "\u001b[K     |████████████████████████████████| 151 kB 977 kB/s eta 0:00:01\n",
      "\u001b[?25hCollecting utm\n",
      "  Downloading utm-0.7.0.tar.gz (8.7 kB)\n",
      "Requirement already satisfied: tifffile>=2020.9.30 in /Users/jamie/opt/anaconda3/lib/python3.8/site-packages (from sentinelhub->-r requirements.txt (line 8)) (2021.7.2)\n",
      "Requirement already satisfied: click in /Users/jamie/opt/anaconda3/lib/python3.8/site-packages (from sentinelhub->-r requirements.txt (line 8)) (8.0.3)\n",
      "Collecting dataclasses-json\n",
      "  Downloading dataclasses_json-0.5.7-py3-none-any.whl (25 kB)\n",
      "Collecting requests-oauthlib>=1.0.0\n",
      "  Downloading requests_oauthlib-1.3.1-py2.py3-none-any.whl (23 kB)\n",
      "Collecting pillow>=9.2.0\n",
      "  Downloading Pillow-9.3.0-cp38-cp38-macosx_10_10_x86_64.whl (3.3 MB)\n",
      "\u001b[K     |████████████████████████████████| 3.3 MB 1.3 MB/s eta 0:00:01\n",
      "\u001b[?25hCollecting aenum>=2.1.4\n",
      "  Downloading aenum-3.1.11-py3-none-any.whl (131 kB)\n",
      "\u001b[K     |████████████████████████████████| 131 kB 1.1 MB/s eta 0:00:01\n",
      "\u001b[?25hRequirement already satisfied: jinja2>=2.9 in /Users/jamie/opt/anaconda3/lib/python3.8/site-packages (from folium->-r requirements.txt (line 9)) (2.11.3)\n",
      "Collecting branca>=0.3.0\n",
      "  Downloading branca-0.5.0-py3-none-any.whl (24 kB)\n",
      "Requirement already satisfied: packaging in /Users/jamie/opt/anaconda3/lib/python3.8/site-packages (from geopandas->-r requirements.txt (line 10)) (21.3)\n",
      "Collecting fiona>=1.8\n",
      "  Downloading Fiona-1.8.22-cp38-cp38-macosx_10_10_x86_64.whl (26.5 MB)\n",
      "\u001b[K     |████████████████████████████████| 26.5 MB 534 kB/s eta 0:00:01    |███████████▉                    | 9.9 MB 805 kB/s eta 0:00:21     |███████████████████████▍        | 19.4 MB 1.5 MB/s eta 0:00:05\n",
      "\u001b[?25hCollecting statsmodels>=0.13.2\n",
      "  Downloading statsmodels-0.13.5-cp38-cp38-macosx_10_9_x86_64.whl (9.6 MB)\n",
      "\u001b[K     |████████████████████████████████| 9.6 MB 930 kB/s eta 0:00:01\n",
      "\u001b[?25hRequirement already satisfied: patsy>=0.5.1 in /Users/jamie/opt/anaconda3/lib/python3.8/site-packages (from plotnine->-r requirements.txt (line 11)) (0.5.2)\n",
      "Requirement already satisfied: matplotlib>=3.5.0 in /Users/jamie/opt/anaconda3/lib/python3.8/site-packages (from plotnine->-r requirements.txt (line 11)) (3.5.0)\n",
      "Requirement already satisfied: scipy>=1.5.0 in /Users/jamie/opt/anaconda3/lib/python3.8/site-packages (from plotnine->-r requirements.txt (line 11)) (1.7.3)\n",
      "Collecting mizani>=0.8.1\n",
      "  Downloading mizani-0.8.1-py3-none-any.whl (64 kB)\n",
      "\u001b[K     |████████████████████████████████| 64 kB 1.3 MB/s eta 0:00:01\n"
     ]
    },
    {
     "name": "stdout",
     "output_type": "stream",
     "text": [
      "\u001b[?25hCollecting lightning-utilities==0.3.*\n",
      "  Downloading lightning_utilities-0.3.0-py3-none-any.whl (15 kB)\n",
      "Collecting torch>=1.9.*\n",
      "  Downloading torch-1.13.0-cp38-none-macosx_10_9_x86_64.whl (137.6 MB)\n",
      "\u001b[K     |████████████████████████████████| 137.6 MB 1.0 MB/s eta 0:00:01\n",
      "\u001b[?25hRequirement already satisfied: fsspec[http]>2021.06.0 in /Users/jamie/opt/anaconda3/lib/python3.8/site-packages (from pytorch-lightning->-r requirements.txt (line 13)) (2022.1.0)\n",
      "Requirement already satisfied: PyYAML>=5.4 in /Users/jamie/opt/anaconda3/lib/python3.8/site-packages (from pytorch-lightning->-r requirements.txt (line 13)) (6.0)\n",
      "Collecting torchmetrics>=0.7.0\n",
      "  Downloading torchmetrics-0.10.2-py3-none-any.whl (529 kB)\n",
      "\u001b[K     |████████████████████████████████| 529 kB 1.3 MB/s eta 0:00:01\n",
      "\u001b[?25hCollecting typing-extensions\n",
      "  Downloading typing_extensions-4.4.0-py3-none-any.whl (26 kB)\n",
      "Collecting lightning-lite==1.8.0.post1\n",
      "  Downloading lightning_lite-1.8.0.post1-py3-none-any.whl (136 kB)\n",
      "\u001b[K     |████████████████████████████████| 136 kB 811 kB/s eta 0:00:01\n",
      "\u001b[?25hCollecting tensorboard>=2.9.1\n",
      "  Downloading tensorboard-2.10.1-py3-none-any.whl (5.9 MB)\n",
      "\u001b[K     |████████████████████████████████| 5.9 MB 2.1 MB/s eta 0:00:01\n",
      "\u001b[?25hCollecting fire\n",
      "  Downloading fire-0.4.0.tar.gz (87 kB)\n",
      "\u001b[K     |████████████████████████████████| 87 kB 1.2 MB/s eta 0:00:01\n",
      "\u001b[?25hRequirement already satisfied: six>=1.13.0 in /Users/jamie/opt/anaconda3/lib/python3.8/site-packages (from wandb->-r requirements.txt (line 14)) (1.16.0)\n",
      "Collecting shortuuid>=0.5.0\n",
      "  Downloading shortuuid-1.0.9-py3-none-any.whl (9.4 kB)\n",
      "Collecting sentry-sdk>=1.0.0\n",
      "  Downloading sentry_sdk-1.10.1-py2.py3-none-any.whl (166 kB)\n",
      "\u001b[K     |████████████████████████████████| 166 kB 1.0 MB/s eta 0:00:01\n",
      "\u001b[?25hCollecting protobuf!=4.0.*,!=4.21.0,<5,>=3.12.0\n",
      "  Downloading protobuf-4.21.9-cp37-abi3-macosx_10_9_universal2.whl (483 kB)\n",
      "\u001b[K     |████████████████████████████████| 483 kB 1.1 MB/s eta 0:00:01\n",
      "\u001b[?25hCollecting GitPython>=1.0.0\n",
      "  Downloading GitPython-3.1.29-py3-none-any.whl (182 kB)\n",
      "\u001b[K     |████████████████████████████████| 182 kB 931 kB/s eta 0:00:01\n",
      "\u001b[?25hRequirement already satisfied: pathtools in /Users/jamie/opt/anaconda3/lib/python3.8/site-packages (from wandb->-r requirements.txt (line 14)) (0.1.2)\n",
      "Collecting setproctitle\n",
      "  Downloading setproctitle-1.3.2-cp38-cp38-macosx_10_9_x86_64.whl (11 kB)\n",
      "Collecting promise<3,>=2.0\n",
      "  Downloading promise-2.3.tar.gz (19 kB)\n",
      "Collecting docker-pycreds>=0.4.0\n",
      "  Downloading docker_pycreds-0.4.0-py2.py3-none-any.whl (9.0 kB)\n",
      "Collecting snuggs>=1.4.1\n",
      "  Downloading snuggs-1.4.7-py3-none-any.whl (5.4 kB)\n",
      "Collecting affine\n",
      "  Downloading affine-2.3.1-py2.py3-none-any.whl (16 kB)\n",
      "Collecting click-plugins\n",
      "  Downloading click_plugins-1.1.1-py2.py3-none-any.whl (7.5 kB)\n",
      "Collecting cligj>=0.5\n",
      "  Downloading cligj-0.7.2-py3-none-any.whl (7.1 kB)\n",
      "Requirement already satisfied: attrs in /Users/jamie/opt/anaconda3/lib/python3.8/site-packages (from rasterio->-r requirements.txt (line 18)) (21.4.0)\n",
      "Collecting eo-learn-mask==1.3.0\n",
      "  Downloading eo_learn_mask-1.3.0-py3-none-any.whl (10.5 MB)\n",
      "\u001b[K     |████████████████████████████████| 10.5 MB 1.1 MB/s eta 0:00:01\n",
      "\u001b[?25hCollecting eo-learn-io==1.3.0\n",
      "  Downloading eo_learn_io-1.3.0-py3-none-any.whl (29 kB)\n",
      "Collecting eo-learn-geometry==1.3.0\n",
      "  Downloading eo_learn_geometry-1.3.0-py3-none-any.whl (14 kB)\n",
      "Collecting eo-learn-visualization==1.3.0\n",
      "  Downloading eo_learn_visualization-1.3.0-py3-none-any.whl (21 kB)\n",
      "Collecting eo-learn-features==1.3.0\n",
      "  Downloading eo_learn_features-1.3.0-py3-none-any.whl (39 kB)\n",
      "Collecting eo-learn-ml-tools==1.3.0\n",
      "  Downloading eo_learn_ml_tools-1.3.0-py3-none-any.whl (15 kB)\n",
      "Collecting eo-learn-core==1.3.0\n",
      "  Downloading eo_learn_core-1.3.0-py3-none-any.whl (68 kB)\n",
      "\u001b[K     |████████████████████████████████| 68 kB 1.5 MB/s eta 0:00:01\n",
      "\u001b[?25hCollecting eo-learn-coregistration==1.3.0\n",
      "  Downloading eo_learn_coregistration-1.3.0-py3-none-any.whl (12 kB)\n",
      "Collecting fs-s3fs\n",
      "  Downloading fs_s3fs-1.1.1-py2.py3-none-any.whl (9.7 kB)\n",
      "Collecting fs\n",
      "  Downloading fs-2.4.16-py2.py3-none-any.whl (135 kB)\n",
      "\u001b[K     |████████████████████████████████| 135 kB 1.3 MB/s eta 0:00:01\n",
      "\u001b[?25hCollecting boto3\n",
      "  Downloading boto3-1.26.1-py3-none-any.whl (132 kB)\n",
      "\u001b[K     |████████████████████████████████| 132 kB 1.0 MB/s eta 0:00:01\n",
      "\u001b[?25hCollecting opencv-contrib-python-headless>=4.1\n",
      "  Downloading opencv_contrib_python_headless-4.6.0.66-cp36-abi3-macosx_10_15_x86_64.whl (56.1 MB)\n",
      "\u001b[K     |████████████████████████████████| 56.1 MB 1.2 MB/s eta 0:00:011\n",
      "\u001b[?25hCollecting scikit-image>=0.19.0\n",
      "  Downloading scikit_image-0.19.3-cp38-cp38-macosx_10_13_x86_64.whl (13.2 MB)\n",
      "\u001b[K     |████████████████████████████████| 13.2 MB 1.3 MB/s eta 0:00:01\n",
      "\u001b[?25hRequirement already satisfied: numba>=0.53.0 in /Users/jamie/opt/anaconda3/lib/python3.8/site-packages (from eo-learn-features==1.3.0->eo-learn->-r requirements.txt (line 21)) (0.54.1)\n",
      "Requirement already satisfied: scikit-learn in /Users/jamie/opt/anaconda3/lib/python3.8/site-packages (from eo-learn-features==1.3.0->eo-learn->-r requirements.txt (line 21)) (1.0.2)\n",
      "Requirement already satisfied: rtree in /Users/jamie/opt/anaconda3/lib/python3.8/site-packages (from eo-learn-io==1.3.0->eo-learn->-r requirements.txt (line 21)) (0.9.7)\n",
      "Collecting lightgbm>=2.0.11\n",
      "  Downloading lightgbm-3.3.3-py3-none-macosx_10_15_x86_64.macosx_11_6_x86_64.macosx_12_0_x86_64.whl (1.3 MB)\n",
      "\u001b[K     |████████████████████████████████| 1.3 MB 976 kB/s eta 0:00:01\n",
      "\u001b[?25hRequirement already satisfied: pygments in /Users/jamie/opt/anaconda3/lib/python3.8/site-packages (from eo-learn-visualization==1.3.0->eo-learn->-r requirements.txt (line 21)) (2.10.0)\n",
      "Collecting pydot\n",
      "  Downloading pydot-1.4.2-py2.py3-none-any.whl (21 kB)\n",
      "Collecting graphviz>=0.10.1\n",
      "  Downloading graphviz-0.20.1-py3-none-any.whl (47 kB)\n",
      "\u001b[K     |████████████████████████████████| 47 kB 1.1 MB/s eta 0:00:01\n",
      "\u001b[?25hRequirement already satisfied: webencodings in /Users/jamie/opt/anaconda3/lib/python3.8/site-packages (from bleach>=3.1.1->swifter->-r requirements.txt (line 6)) (0.5.1)\n",
      "Requirement already satisfied: partd>=0.3.10 in /Users/jamie/opt/anaconda3/lib/python3.8/site-packages (from dask[dataframe]>=2.10.0->swifter->-r requirements.txt (line 6)) (1.2.0)\n",
      "Requirement already satisfied: toolz>=0.8.2 in /Users/jamie/opt/anaconda3/lib/python3.8/site-packages (from dask[dataframe]>=2.10.0->swifter->-r requirements.txt (line 6)) (0.11.2)\n",
      "Collecting munch\n",
      "  Downloading munch-2.5.0-py2.py3-none-any.whl (10 kB)\n",
      "Collecting aiohttp\n",
      "  Downloading aiohttp-3.8.3-cp38-cp38-macosx_10_9_x86_64.whl (359 kB)\n",
      "\u001b[K     |████████████████████████████████| 359 kB 1.2 MB/s eta 0:00:01\n",
      "\u001b[?25hCollecting gitdb<5,>=4.0.1\n",
      "  Downloading gitdb-4.0.9-py3-none-any.whl (63 kB)\n",
      "\u001b[K     |████████████████████████████████| 63 kB 1.3 MB/s eta 0:00:01\n",
      "\u001b[?25hCollecting smmap<6,>=3.0.1\n",
      "  Downloading smmap-5.0.0-py3-none-any.whl (24 kB)\n",
      "Requirement already satisfied: widgetsnbextension~=3.5.0 in /Users/jamie/opt/anaconda3/lib/python3.8/site-packages (from ipywidgets>=7.0.0->swifter->-r requirements.txt (line 6)) (3.5.1)\n",
      "Requirement already satisfied: traitlets>=4.3.1 in /Users/jamie/opt/anaconda3/lib/python3.8/site-packages (from ipywidgets>=7.0.0->swifter->-r requirements.txt (line 6)) (5.1.1)\n",
      "Requirement already satisfied: nbformat>=4.2.0 in /Users/jamie/opt/anaconda3/lib/python3.8/site-packages (from ipywidgets>=7.0.0->swifter->-r requirements.txt (line 6)) (5.1.3)\n",
      "Requirement already satisfied: ipython-genutils~=0.2.0 in /Users/jamie/opt/anaconda3/lib/python3.8/site-packages (from ipywidgets>=7.0.0->swifter->-r requirements.txt (line 6)) (0.2.0)\n",
      "Requirement already satisfied: jupyterlab-widgets>=1.0.0 in /Users/jamie/opt/anaconda3/lib/python3.8/site-packages (from ipywidgets>=7.0.0->swifter->-r requirements.txt (line 6)) (1.0.0)\n",
      "Requirement already satisfied: ipython>=4.0.0 in /Users/jamie/opt/anaconda3/lib/python3.8/site-packages (from ipywidgets>=7.0.0->swifter->-r requirements.txt (line 6)) (7.29.0)\n",
      "Requirement already satisfied: ipykernel>=4.5.1 in /Users/jamie/opt/anaconda3/lib/python3.8/site-packages (from ipywidgets>=7.0.0->swifter->-r requirements.txt (line 6)) (6.4.1)\n",
      "Requirement already satisfied: appnope in /Users/jamie/opt/anaconda3/lib/python3.8/site-packages (from ipykernel>=4.5.1->ipywidgets>=7.0.0->swifter->-r requirements.txt (line 6)) (0.1.2)\n",
      "Requirement already satisfied: tornado<7.0,>=4.2 in /Users/jamie/opt/anaconda3/lib/python3.8/site-packages (from ipykernel>=4.5.1->ipywidgets>=7.0.0->swifter->-r requirements.txt (line 6)) (6.1)\n",
      "Requirement already satisfied: debugpy<2.0,>=1.0.0 in /Users/jamie/opt/anaconda3/lib/python3.8/site-packages (from ipykernel>=4.5.1->ipywidgets>=7.0.0->swifter->-r requirements.txt (line 6)) (1.5.1)\n",
      "Requirement already satisfied: jupyter-client<8.0 in /Users/jamie/opt/anaconda3/lib/python3.8/site-packages (from ipykernel>=4.5.1->ipywidgets>=7.0.0->swifter->-r requirements.txt (line 6)) (7.1.0)\n",
      "Requirement already satisfied: matplotlib-inline<0.2.0,>=0.1.0 in /Users/jamie/opt/anaconda3/lib/python3.8/site-packages (from ipykernel>=4.5.1->ipywidgets>=7.0.0->swifter->-r requirements.txt (line 6)) (0.1.2)\n"
     ]
    },
    {
     "name": "stdout",
     "output_type": "stream",
     "text": [
      "Requirement already satisfied: pickleshare in /Users/jamie/opt/anaconda3/lib/python3.8/site-packages (from ipython>=4.0.0->ipywidgets>=7.0.0->swifter->-r requirements.txt (line 6)) (0.7.5)\n",
      "Requirement already satisfied: backcall in /Users/jamie/opt/anaconda3/lib/python3.8/site-packages (from ipython>=4.0.0->ipywidgets>=7.0.0->swifter->-r requirements.txt (line 6)) (0.2.0)\n",
      "Requirement already satisfied: decorator in /Users/jamie/opt/anaconda3/lib/python3.8/site-packages (from ipython>=4.0.0->ipywidgets>=7.0.0->swifter->-r requirements.txt (line 6)) (5.1.0)\n",
      "Requirement already satisfied: pexpect>4.3 in /Users/jamie/opt/anaconda3/lib/python3.8/site-packages (from ipython>=4.0.0->ipywidgets>=7.0.0->swifter->-r requirements.txt (line 6)) (4.8.0)\n",
      "Requirement already satisfied: prompt-toolkit!=3.0.0,!=3.0.1,<3.1.0,>=2.0.0 in /Users/jamie/opt/anaconda3/lib/python3.8/site-packages (from ipython>=4.0.0->ipywidgets>=7.0.0->swifter->-r requirements.txt (line 6)) (3.0.20)\n",
      "Requirement already satisfied: jedi>=0.16 in /Users/jamie/opt/anaconda3/lib/python3.8/site-packages (from ipython>=4.0.0->ipywidgets>=7.0.0->swifter->-r requirements.txt (line 6)) (0.17.1)\n",
      "Requirement already satisfied: MarkupSafe>=0.23 in /Users/jamie/opt/anaconda3/lib/python3.8/site-packages (from jinja2>=2.9->folium->-r requirements.txt (line 9)) (2.0.1)\n",
      "Requirement already satisfied: pyzmq>=13 in /Users/jamie/opt/anaconda3/lib/python3.8/site-packages (from jupyter-client<8.0->ipykernel>=4.5.1->ipywidgets>=7.0.0->swifter->-r requirements.txt (line 6)) (22.3.0)\n",
      "Requirement already satisfied: nest-asyncio>=1.5 in /Users/jamie/opt/anaconda3/lib/python3.8/site-packages (from jupyter-client<8.0->ipykernel>=4.5.1->ipywidgets>=7.0.0->swifter->-r requirements.txt (line 6)) (1.5.1)\n",
      "Requirement already satisfied: jupyter-core>=4.6.0 in /Users/jamie/opt/anaconda3/lib/python3.8/site-packages (from jupyter-client<8.0->ipykernel>=4.5.1->ipywidgets>=7.0.0->swifter->-r requirements.txt (line 6)) (4.9.1)\n",
      "Requirement already satisfied: entrypoints in /Users/jamie/opt/anaconda3/lib/python3.8/site-packages (from jupyter-client<8.0->ipykernel>=4.5.1->ipywidgets>=7.0.0->swifter->-r requirements.txt (line 6)) (0.3)\n",
      "Requirement already satisfied: wheel in /Users/jamie/opt/anaconda3/lib/python3.8/site-packages (from lightgbm>=2.0.11->eo-learn-mask==1.3.0->eo-learn->-r requirements.txt (line 21)) (0.37.1)\n",
      "Requirement already satisfied: kiwisolver>=1.0.1 in /Users/jamie/opt/anaconda3/lib/python3.8/site-packages (from matplotlib>=3.5.0->plotnine->-r requirements.txt (line 11)) (1.3.1)\n",
      "Requirement already satisfied: fonttools>=4.22.0 in /Users/jamie/opt/anaconda3/lib/python3.8/site-packages (from matplotlib>=3.5.0->plotnine->-r requirements.txt (line 11)) (4.25.0)\n",
      "Requirement already satisfied: cycler>=0.10 in /Users/jamie/opt/anaconda3/lib/python3.8/site-packages (from matplotlib>=3.5.0->plotnine->-r requirements.txt (line 11)) (0.11.0)\n",
      "Requirement already satisfied: pyparsing>=2.2.1 in /Users/jamie/opt/anaconda3/lib/python3.8/site-packages (from matplotlib>=3.5.0->plotnine->-r requirements.txt (line 11)) (3.0.4)\n",
      "Collecting palettable\n",
      "  Downloading palettable-3.3.0-py2.py3-none-any.whl (111 kB)\n",
      "\u001b[K     |████████████████████████████████| 111 kB 1.1 MB/s eta 0:00:01\n",
      "\u001b[?25hCollecting backports.zoneinfo\n",
      "  Downloading backports.zoneinfo-0.2.1-cp38-cp38-macosx_10_14_x86_64.whl (35 kB)\n",
      "Requirement already satisfied: jsonschema!=2.5.0,>=2.4 in /Users/jamie/opt/anaconda3/lib/python3.8/site-packages (from nbformat>=4.2.0->ipywidgets>=7.0.0->swifter->-r requirements.txt (line 6)) (3.2.0)\n",
      "Requirement already satisfied: pyrsistent>=0.14.0 in /Users/jamie/opt/anaconda3/lib/python3.8/site-packages (from jsonschema!=2.5.0,>=2.4->nbformat>=4.2.0->ipywidgets>=7.0.0->swifter->-r requirements.txt (line 6)) (0.18.0)\n",
      "Requirement already satisfied: llvmlite<0.38,>=0.37.0rc1 in /Users/jamie/opt/anaconda3/lib/python3.8/site-packages (from numba>=0.53.0->eo-learn-features==1.3.0->eo-learn->-r requirements.txt (line 21)) (0.37.0)\n",
      "Requirement already satisfied: locket in /Users/jamie/opt/anaconda3/lib/python3.8/site-packages/locket-0.2.1-py3.8.egg (from partd>=0.3.10->dask[dataframe]>=2.10.0->swifter->-r requirements.txt (line 6)) (0.2.1)\n",
      "Requirement already satisfied: ptyprocess>=0.5 in /Users/jamie/opt/anaconda3/lib/python3.8/site-packages (from pexpect>4.3->ipython>=4.0.0->ipywidgets>=7.0.0->swifter->-r requirements.txt (line 6)) (0.7.0)\n",
      "Requirement already satisfied: wcwidth in /Users/jamie/opt/anaconda3/lib/python3.8/site-packages (from prompt-toolkit!=3.0.0,!=3.0.1,<3.1.0,>=2.0.0->ipython>=4.0.0->ipywidgets>=7.0.0->swifter->-r requirements.txt (line 6)) (0.2.5)\n",
      "Requirement already satisfied: PyWavelets>=1.1.1 in /Users/jamie/opt/anaconda3/lib/python3.8/site-packages (from scikit-image>=0.19.0->eo-learn-features==1.3.0->eo-learn->-r requirements.txt (line 21)) (1.1.1)\n",
      "Requirement already satisfied: imageio>=2.4.1 in /Users/jamie/opt/anaconda3/lib/python3.8/site-packages (from scikit-image>=0.19.0->eo-learn-features==1.3.0->eo-learn->-r requirements.txt (line 21)) (2.9.0)\n",
      "Requirement already satisfied: networkx>=2.2 in /Users/jamie/opt/anaconda3/lib/python3.8/site-packages (from scikit-image>=0.19.0->eo-learn-features==1.3.0->eo-learn->-r requirements.txt (line 21)) (2.6.3)\n",
      "Requirement already satisfied: joblib>=0.11 in /Users/jamie/opt/anaconda3/lib/python3.8/site-packages (from scikit-learn->eo-learn-features==1.3.0->eo-learn->-r requirements.txt (line 21)) (1.1.0)\n",
      "Requirement already satisfied: threadpoolctl>=2.0.0 in /Users/jamie/opt/anaconda3/lib/python3.8/site-packages (from scikit-learn->eo-learn-features==1.3.0->eo-learn->-r requirements.txt (line 21)) (2.2.0)\n",
      "Collecting urllib3<1.27,>=1.21.1\n",
      "  Downloading urllib3-1.26.12-py2.py3-none-any.whl (140 kB)\n",
      "\u001b[K     |████████████████████████████████| 140 kB 976 kB/s eta 0:00:01\n",
      "\u001b[?25hCollecting google-auth<3,>=1.6.3\n",
      "  Downloading google_auth-2.14.0-py2.py3-none-any.whl (175 kB)\n",
      "\u001b[K     |████████████████████████████████| 175 kB 1.0 MB/s eta 0:00:01\n",
      "\u001b[?25hCollecting markdown>=2.6.8\n",
      "  Downloading Markdown-3.4.1-py3-none-any.whl (93 kB)\n",
      "\u001b[K     |████████████████████████████████| 93 kB 1.2 MB/s eta 0:00:01\n",
      "\u001b[?25hCollecting tensorboard-data-server<0.7.0,>=0.6.0\n",
      "  Using cached tensorboard_data_server-0.6.1-py3-none-macosx_10_9_x86_64.whl (3.5 MB)\n",
      "Collecting tensorboard-plugin-wit>=1.6.0\n",
      "  Downloading tensorboard_plugin_wit-1.8.1-py3-none-any.whl (781 kB)\n",
      "\u001b[K     |████████████████████████████████| 781 kB 1.4 MB/s eta 0:00:01\n",
      "\u001b[?25hCollecting google-auth-oauthlib<0.5,>=0.4.1\n",
      "  Using cached google_auth_oauthlib-0.4.6-py2.py3-none-any.whl (18 kB)\n",
      "Collecting absl-py>=0.4\n",
      "  Downloading absl_py-1.3.0-py3-none-any.whl (124 kB)\n",
      "\u001b[K     |████████████████████████████████| 124 kB 1.4 MB/s eta 0:00:01\n",
      "\u001b[?25hCollecting protobuf!=4.0.*,!=4.21.0,<5,>=3.12.0\n",
      "  Downloading protobuf-3.19.6-cp38-cp38-macosx_10_9_x86_64.whl (980 kB)\n",
      "\u001b[K     |████████████████████████████████| 980 kB 1.2 MB/s eta 0:00:01\n",
      "\u001b[?25hCollecting grpcio>=1.24.3\n",
      "  Downloading grpcio-1.50.0-cp38-cp38-macosx_10_10_x86_64.whl (4.5 MB)\n",
      "\u001b[K     |████████████████████████████████| 4.5 MB 767 kB/s eta 0:00:01\n",
      "\u001b[?25hRequirement already satisfied: werkzeug>=1.0.1 in /Users/jamie/opt/anaconda3/lib/python3.8/site-packages (from tensorboard>=2.9.1->pytorch-lightning->-r requirements.txt (line 13)) (2.0.2)\n",
      "Collecting pyasn1-modules>=0.2.1\n",
      "  Using cached pyasn1_modules-0.2.8-py2.py3-none-any.whl (155 kB)\n",
      "Collecting cachetools<6.0,>=2.0.0\n",
      "  Downloading cachetools-5.2.0-py3-none-any.whl (9.3 kB)\n",
      "Collecting rsa<5,>=3.1.4\n",
      "  Downloading rsa-4.9-py3-none-any.whl (34 kB)\n",
      "Requirement already satisfied: importlib-metadata>=4.4 in /Users/jamie/opt/anaconda3/lib/python3.8/site-packages (from markdown>=2.6.8->tensorboard>=2.9.1->pytorch-lightning->-r requirements.txt (line 13)) (4.8.2)\n",
      "Requirement already satisfied: zipp>=0.5 in /Users/jamie/opt/anaconda3/lib/python3.8/site-packages (from importlib-metadata>=4.4->markdown>=2.6.8->tensorboard>=2.9.1->pytorch-lightning->-r requirements.txt (line 13)) (3.7.0)\n",
      "Collecting pyasn1<0.5.0,>=0.4.6\n",
      "  Using cached pyasn1-0.4.8-py2.py3-none-any.whl (77 kB)\n",
      "Requirement already satisfied: notebook>=4.4.1 in /Users/jamie/opt/anaconda3/lib/python3.8/site-packages (from widgetsnbextension~=3.5.0->ipywidgets>=7.0.0->swifter->-r requirements.txt (line 6)) (6.1.4)\n",
      "Requirement already satisfied: Send2Trash in /Users/jamie/opt/anaconda3/lib/python3.8/site-packages (from notebook>=4.4.1->widgetsnbextension~=3.5.0->ipywidgets>=7.0.0->swifter->-r requirements.txt (line 6)) (1.8.0)\n",
      "Requirement already satisfied: prometheus-client in /Users/jamie/opt/anaconda3/lib/python3.8/site-packages (from notebook>=4.4.1->widgetsnbextension~=3.5.0->ipywidgets>=7.0.0->swifter->-r requirements.txt (line 6)) (0.12.0)\n",
      "Requirement already satisfied: argon2-cffi in /Users/jamie/opt/anaconda3/lib/python3.8/site-packages (from notebook>=4.4.1->widgetsnbextension~=3.5.0->ipywidgets>=7.0.0->swifter->-r requirements.txt (line 6)) (20.1.0)\n",
      "Requirement already satisfied: terminado>=0.8.3 in /Users/jamie/opt/anaconda3/lib/python3.8/site-packages (from notebook>=4.4.1->widgetsnbextension~=3.5.0->ipywidgets>=7.0.0->swifter->-r requirements.txt (line 6)) (0.9.4)\n",
      "Requirement already satisfied: nbconvert in /Users/jamie/opt/anaconda3/lib/python3.8/site-packages (from notebook>=4.4.1->widgetsnbextension~=3.5.0->ipywidgets>=7.0.0->swifter->-r requirements.txt (line 6)) (6.3.0)\n"
     ]
    },
    {
     "name": "stdout",
     "output_type": "stream",
     "text": [
      "Collecting yarl<2.0,>=1.0\n",
      "  Downloading yarl-1.8.1-cp38-cp38-macosx_10_9_x86_64.whl (60 kB)\n",
      "\u001b[K     |████████████████████████████████| 60 kB 1.5 MB/s eta 0:00:01\n",
      "\u001b[?25hCollecting multidict<7.0,>=4.5\n",
      "  Downloading multidict-6.0.2-cp38-cp38-macosx_10_9_x86_64.whl (28 kB)\n",
      "Collecting async-timeout<5.0,>=4.0.0a3\n",
      "  Downloading async_timeout-4.0.2-py3-none-any.whl (5.8 kB)\n",
      "Collecting frozenlist>=1.1.1\n",
      "  Downloading frozenlist-1.3.1-cp38-cp38-macosx_10_9_x86_64.whl (36 kB)\n",
      "Collecting aiosignal>=1.1.2\n",
      "  Downloading aiosignal-1.2.0-py3-none-any.whl (8.2 kB)\n",
      "Requirement already satisfied: cffi>=1.0.0 in /Users/jamie/opt/anaconda3/lib/python3.8/site-packages (from argon2-cffi->notebook>=4.4.1->widgetsnbextension~=3.5.0->ipywidgets>=7.0.0->swifter->-r requirements.txt (line 6)) (1.15.0)\n",
      "Requirement already satisfied: pycparser in /Users/jamie/opt/anaconda3/lib/python3.8/site-packages (from cffi>=1.0.0->argon2-cffi->notebook>=4.4.1->widgetsnbextension~=3.5.0->ipywidgets>=7.0.0->swifter->-r requirements.txt (line 6)) (2.21)\n",
      "Collecting botocore<1.30.0,>=1.29.1\n",
      "  Downloading botocore-1.29.1-py3-none-any.whl (9.8 MB)\n",
      "\u001b[K     |████████████████████████████████| 9.8 MB 891 kB/s eta 0:00:01\n",
      "\u001b[?25hCollecting jmespath<2.0.0,>=0.7.1\n",
      "  Downloading jmespath-1.0.1-py3-none-any.whl (20 kB)\n",
      "Collecting s3transfer<0.7.0,>=0.6.0\n",
      "  Downloading s3transfer-0.6.0-py3-none-any.whl (79 kB)\n",
      "\u001b[K     |████████████████████████████████| 79 kB 1.1 MB/s eta 0:00:01\n",
      "\u001b[?25hCollecting marshmallow-enum<2.0.0,>=1.5.1\n",
      "  Downloading marshmallow_enum-1.5.1-py2.py3-none-any.whl (4.2 kB)\n",
      "Collecting typing-inspect>=0.4.0\n",
      "  Downloading typing_inspect-0.8.0-py3-none-any.whl (8.7 kB)\n",
      "Collecting marshmallow<4.0.0,>=3.3.0\n",
      "  Downloading marshmallow-3.18.0-py3-none-any.whl (48 kB)\n",
      "\u001b[K     |████████████████████████████████| 48 kB 1.2 MB/s eta 0:00:01\n",
      "\u001b[?25hRequirement already satisfied: mypy-extensions>=0.3.0 in /Users/jamie/opt/anaconda3/lib/python3.8/site-packages (from typing-inspect>=0.4.0->dataclasses-json->sentinelhub->-r requirements.txt (line 8)) (0.4.3)\n",
      "Collecting termcolor\n",
      "  Downloading termcolor-2.1.0-py3-none-any.whl (5.8 kB)\n",
      "Requirement already satisfied: appdirs~=1.4.3 in /Users/jamie/opt/anaconda3/lib/python3.8/site-packages (from fs->eo-learn-core==1.3.0->eo-learn->-r requirements.txt (line 21)) (1.4.4)\n",
      "Requirement already satisfied: testpath in /Users/jamie/opt/anaconda3/lib/python3.8/site-packages (from nbconvert->notebook>=4.4.1->widgetsnbextension~=3.5.0->ipywidgets>=7.0.0->swifter->-r requirements.txt (line 6)) (0.5.0)\n",
      "Requirement already satisfied: jupyterlab-pygments in /Users/jamie/opt/anaconda3/lib/python3.8/site-packages (from nbconvert->notebook>=4.4.1->widgetsnbextension~=3.5.0->ipywidgets>=7.0.0->swifter->-r requirements.txt (line 6)) (0.1.2)\n",
      "Requirement already satisfied: pandocfilters>=1.4.1 in /Users/jamie/opt/anaconda3/lib/python3.8/site-packages (from nbconvert->notebook>=4.4.1->widgetsnbextension~=3.5.0->ipywidgets>=7.0.0->swifter->-r requirements.txt (line 6)) (1.4.3)\n",
      "Requirement already satisfied: defusedxml in /Users/jamie/opt/anaconda3/lib/python3.8/site-packages (from nbconvert->notebook>=4.4.1->widgetsnbextension~=3.5.0->ipywidgets>=7.0.0->swifter->-r requirements.txt (line 6)) (0.7.1)\n",
      "Requirement already satisfied: mistune<2,>=0.8.1 in /Users/jamie/opt/anaconda3/lib/python3.8/site-packages (from nbconvert->notebook>=4.4.1->widgetsnbextension~=3.5.0->ipywidgets>=7.0.0->swifter->-r requirements.txt (line 6)) (0.8.4)\n",
      "Requirement already satisfied: nbclient<0.6.0,>=0.5.0 in /Users/jamie/opt/anaconda3/lib/python3.8/site-packages (from nbconvert->notebook>=4.4.1->widgetsnbextension~=3.5.0->ipywidgets>=7.0.0->swifter->-r requirements.txt (line 6)) (0.5.3)\n",
      "Requirement already satisfied: async-generator in /Users/jamie/opt/anaconda3/lib/python3.8/site-packages (from nbclient<0.6.0,>=0.5.0->nbconvert->notebook>=4.4.1->widgetsnbextension~=3.5.0->ipywidgets>=7.0.0->swifter->-r requirements.txt (line 6)) (1.10)\n",
      "Building wheels for collected packages: swifter, sentinelhub, promise, fire, utm\n",
      "  Building wheel for swifter (setup.py) ... \u001b[?25ldone\n",
      "\u001b[?25h  Created wheel for swifter: filename=swifter-1.3.4-py3-none-any.whl size=16322 sha256=83d44758f0d895ab9da96e34e81144689c761090ee13b39d378deeb93fc1635e\n",
      "  Stored in directory: /Users/jamie/Library/Caches/pip/wheels/08/66/b4/921e351e63d88696932279d6163e125727c9da70ed8ca38419\n",
      "  Building wheel for sentinelhub (PEP 517) ... \u001b[?25ldone\n",
      "\u001b[?25h  Created wheel for sentinelhub: filename=sentinelhub-3.8.0-py3-none-any.whl size=242428 sha256=5a12149533a337dfda94159815aef429d541f9bcd9acf7a5377940ff94a50abe\n",
      "  Stored in directory: /Users/jamie/Library/Caches/pip/wheels/f1/0b/e1/d832cf3e14902fbc681f148cf76ea355978968ba4d85f517db\n",
      "  Building wheel for promise (setup.py) ... \u001b[?25ldone\n",
      "\u001b[?25h  Created wheel for promise: filename=promise-2.3-py3-none-any.whl size=21503 sha256=f207af33f27e21df9038314cae7b5867336db857d307c35d384df54d1db8c5cb\n",
      "  Stored in directory: /Users/jamie/Library/Caches/pip/wheels/54/aa/01/724885182f93150035a2a91bce34a12877e8067a97baaf5dc8\n",
      "  Building wheel for fire (setup.py) ... \u001b[?25ldone\n",
      "\u001b[?25h  Created wheel for fire: filename=fire-0.4.0-py2.py3-none-any.whl size=115942 sha256=c91393cf8bdaa0d522356d330444bc99f78ec52a98bc80b327e7e3fcc8da8dc7\n",
      "  Stored in directory: /Users/jamie/Library/Caches/pip/wheels/1f/10/06/2a990ee4d73a8479fe2922445e8a876d38cfbfed052284c6a1\n",
      "  Building wheel for utm (setup.py) ... \u001b[?25ldone\n",
      "\u001b[?25h  Created wheel for utm: filename=utm-0.7.0-py3-none-any.whl size=6108 sha256=800b7dcd160020decdecc33ff8945bbccf9c6ee152a0dd3cb6946183247e0883\n",
      "  Stored in directory: /Users/jamie/Library/Caches/pip/wheels/65/e2/d8/878a8cc986641056fbfebefc4d8eb64238a7b6d3426e86b447\n",
      "Successfully built swifter sentinelhub promise fire utm\n",
      "Installing collected packages: urllib3, jmespath, typing-extensions, pyasn1, multidict, marshmallow, frozenlist, botocore, yarl, typing-inspect, termcolor, s3transfer, rsa, pyasn1-modules, oauthlib, munch, marshmallow-enum, cligj, click-plugins, cachetools, async-timeout, aiosignal, utm, shapely, requests-oauthlib, pyproj, pillow, google-auth, fs, fire, fiona, dataclasses-json, boto3, aiohttp, aenum, torch, tensorboard-plugin-wit, tensorboard-data-server, snuggs, smmap, sentinelhub, protobuf, markdown, lightning-utilities, grpcio, google-auth-oauthlib, geopandas, fs-s3fs, affine, absl-py, torchmetrics, tensorboard, scikit-image, rasterio, pydot, palettable, opencv-contrib-python-headless, lightning-lite, lightgbm, graphviz, gitdb, eo-learn-core, backports.zoneinfo, statsmodels, shortuuid, setproctitle, sentry-sdk, pytorch-lightning, promise, mizani, GitPython, eo-learn-visualization, eo-learn-ml-tools, eo-learn-mask, eo-learn-io, eo-learn-geometry, eo-learn-features, eo-learn-coregistration, docker-pycreds, branca, wandb, swifter, pytorch-msssim, plotnine, opencv-python, natsort, lightning-bolts, kornia, global-land-mask, geographiclib, folium, eo-learn\n",
      "  Attempting uninstall: urllib3\n",
      "    Found existing installation: urllib3 1.26.7\n",
      "    Uninstalling urllib3-1.26.7:\n",
      "      Successfully uninstalled urllib3-1.26.7\n",
      "  Attempting uninstall: typing-extensions\n",
      "    Found existing installation: typing-extensions 3.10.0.2\n",
      "    Uninstalling typing-extensions-3.10.0.2:\n",
      "      Successfully uninstalled typing-extensions-3.10.0.2\n",
      "  Attempting uninstall: pillow\n",
      "    Found existing installation: Pillow 8.4.0\n",
      "    Uninstalling Pillow-8.4.0:\n",
      "      Successfully uninstalled Pillow-8.4.0\n",
      "  Attempting uninstall: torch\n",
      "    Found existing installation: torch 1.7.1\n",
      "    Uninstalling torch-1.7.1:\n",
      "      Successfully uninstalled torch-1.7.1\n",
      "  Attempting uninstall: scikit-image\n",
      "    Found existing installation: scikit-image 0.18.3\n",
      "    Uninstalling scikit-image-0.18.3:\n",
      "      Successfully uninstalled scikit-image-0.18.3\n",
      "  Attempting uninstall: statsmodels\n",
      "    Found existing installation: statsmodels 0.12.2\n",
      "    Uninstalling statsmodels-0.12.2:\n",
      "      Successfully uninstalled statsmodels-0.12.2\n",
      "\u001b[31mERROR: pip's dependency resolver does not currently take into account all the packages that are installed. This behaviour is the source of the following dependency conflicts.\n",
      "conda-repo-cli 1.0.4 requires pathlib, which is not installed.\n",
      "anaconda-project 0.10.2 requires ruamel-yaml, which is not installed.\n",
      "cookiecutter 1.7.2 requires MarkupSafe<2.0.0, but you have markupsafe 2.0.1 which is incompatible.\u001b[0m\n",
      "Successfully installed GitPython-3.1.29 absl-py-1.3.0 aenum-3.1.11 affine-2.3.1 aiohttp-3.8.3 aiosignal-1.2.0 async-timeout-4.0.2 backports.zoneinfo-0.2.1 boto3-1.26.1 botocore-1.29.1 branca-0.5.0 cachetools-5.2.0 click-plugins-1.1.1 cligj-0.7.2 dataclasses-json-0.5.7 docker-pycreds-0.4.0 eo-learn-1.3.0 eo-learn-core-1.3.0 eo-learn-coregistration-1.3.0 eo-learn-features-1.3.0 eo-learn-geometry-1.3.0 eo-learn-io-1.3.0 eo-learn-mask-1.3.0 eo-learn-ml-tools-1.3.0 eo-learn-visualization-1.3.0 fiona-1.8.22 fire-0.4.0 folium-0.13.0 frozenlist-1.3.1 fs-2.4.16 fs-s3fs-1.1.1 geographiclib-2.0 geopandas-0.12.1 gitdb-4.0.9 global-land-mask-1.0.0 google-auth-2.14.0 google-auth-oauthlib-0.4.6 graphviz-0.20.1 grpcio-1.50.0 jmespath-1.0.1 kornia-0.6.8 lightgbm-3.3.3 lightning-bolts-0.5.0 lightning-lite-1.8.0.post1 lightning-utilities-0.3.0 markdown-3.4.1 marshmallow-3.18.0 marshmallow-enum-1.5.1 mizani-0.8.1 multidict-6.0.2 munch-2.5.0 natsort-8.2.0 oauthlib-3.2.2 opencv-contrib-python-headless-4.6.0.66 opencv-python-4.5.5.64 palettable-3.3.0 pillow-9.3.0 plotnine-0.10.1 promise-2.3 protobuf-3.19.6 pyasn1-0.4.8 pyasn1-modules-0.2.8 pydot-1.4.2 pyproj-3.4.0 pytorch-lightning-1.8.0.post1 pytorch-msssim-0.2.1 rasterio-1.3.3 requests-oauthlib-1.3.1 rsa-4.9 s3transfer-0.6.0 scikit-image-0.19.3 sentinelhub-3.8.0 sentry-sdk-1.10.1 setproctitle-1.3.2 shapely-1.8.5.post1 shortuuid-1.0.9 smmap-5.0.0 snuggs-1.4.7 statsmodels-0.13.5 swifter-1.3.4 tensorboard-2.10.1 tensorboard-data-server-0.6.1 tensorboard-plugin-wit-1.8.1 termcolor-2.1.0 torch-1.13.0 torchmetrics-0.10.2 typing-extensions-4.4.0 typing-inspect-0.8.0 urllib3-1.26.12 utm-0.7.0 wandb-0.13.4 yarl-1.8.1\n",
      "\u001b[33mWARNING: You are using pip version 21.3.1; however, version 22.3 is available.\n",
      "You should consider upgrading via the '/Users/jamie/opt/anaconda3/bin/python -m pip install --upgrade pip' command.\u001b[0m\n"
     ]
    },
    {
     "name": "stdout",
     "output_type": "stream",
     "text": [
      "ln: /kaggle/working/worldstrat/dataset: No such file or directory\r\n"
     ]
    }
   ],
   "source": [
    "!ln -s ../../input/worldstrat /kaggle/working/worldstrat/dataset"
   ]
  },
  {
   "cell_type": "code",
   "execution_count": 29,
   "metadata": {},
   "outputs": [
    {
     "name": "stdout",
     "output_type": "stream",
     "text": [
      "Dataset Exploration.ipynb Training.ipynb            requirements.txt\r\n",
      "Dataset Generation.ipynb  Video Demonstration.ipynb \u001b[34msrc\u001b[m\u001b[m\r\n",
      "Inference.ipynb           \u001b[34mdataset_generation\u001b[m\u001b[m        \u001b[34mvideo_demonstrations\u001b[m\u001b[m\r\n",
      "LICENSE.md                environment.yml\r\n",
      "README.md                 \u001b[34mpretrained_model\u001b[m\u001b[m\r\n"
     ]
    }
   ],
   "source": [
    "!ls"
   ]
  },
  {
   "cell_type": "code",
   "execution_count": 3,
   "metadata": {},
   "outputs": [
    {
     "ename": "ModuleNotFoundError",
     "evalue": "No module named 'ipywidgets'",
     "output_type": "error",
     "traceback": [
      "\u001b[0;31m---------------------------------------------------------------------------\u001b[0m",
      "\u001b[0;31mModuleNotFoundError\u001b[0m                       Traceback (most recent call last)",
      "\u001b[0;32m<ipython-input-3-5c284f05599f>\u001b[0m in \u001b[0;36m<module>\u001b[0;34m\u001b[0m\n\u001b[1;32m      1\u001b[0m \u001b[0;32mimport\u001b[0m \u001b[0mos\u001b[0m\u001b[0;34m\u001b[0m\u001b[0;34m\u001b[0m\u001b[0m\n\u001b[1;32m      2\u001b[0m \u001b[0;34m\u001b[0m\u001b[0m\n\u001b[0;32m----> 3\u001b[0;31m \u001b[0;32mfrom\u001b[0m \u001b[0mipywidgets\u001b[0m \u001b[0;32mimport\u001b[0m \u001b[0minteract_manual\u001b[0m\u001b[0;34m,\u001b[0m \u001b[0mLayout\u001b[0m\u001b[0;34m\u001b[0m\u001b[0;34m\u001b[0m\u001b[0m\n\u001b[0m\u001b[1;32m      4\u001b[0m \u001b[0;32mimport\u001b[0m \u001b[0mipywidgets\u001b[0m \u001b[0;32mas\u001b[0m \u001b[0mwidgets\u001b[0m\u001b[0;34m\u001b[0m\u001b[0;34m\u001b[0m\u001b[0m\n\u001b[1;32m      5\u001b[0m \u001b[0;32mfrom\u001b[0m \u001b[0mglob\u001b[0m \u001b[0;32mimport\u001b[0m \u001b[0mglob\u001b[0m\u001b[0;34m\u001b[0m\u001b[0;34m\u001b[0m\u001b[0m\n",
      "\u001b[0;31mModuleNotFoundError\u001b[0m: No module named 'ipywidgets'"
     ]
    }
   ],
   "source": [
    "import os\n",
    "\n",
    "from ipywidgets import interact_manual, Layout\n",
    "import ipywidgets as widgets\n",
    "from glob import glob\n",
    "from torch.utils.data import DataLoader\n",
    "from torchvision.utils import make_grid\n",
    "\n",
    "from src.datasets import load_dataset_JIF, SatelliteDataset, DictDataset, make_transforms_JIF\n",
    "from src.datasources import S2_ALL_12BANDS\n",
    "from src.plot import showtensor\n",
    "from multiprocessing import Manager\n",
    "from src.datasources import *\n",
    "import warnings\n",
    "warnings.filterwarnings(\"ignore\", category=DeprecationWarning) \n",
    "warnings.filterwarnings(\"ignore\", category=UserWarning) \n",
    "transforms = make_transforms_JIF(lr_bands_to_use='true_color', radiometry_depth=12)\n",
    "multiprocessing_manager = Manager()"
   ]
  },
  {
   "cell_type": "code",
   "execution_count": 2,
   "metadata": {},
   "outputs": [
    {
     "name": "stdout",
     "output_type": "stream",
     "text": [
      "Collecting ipywidgets\n",
      "  Downloading ipywidgets-8.0.2-py3-none-any.whl (134 kB)\n",
      "\u001b[K     |████████████████████████████████| 134 kB 688 kB/s eta 0:00:01\n",
      "\u001b[?25hCollecting ipython>=6.1.0\n",
      "  Downloading ipython-7.34.0-py3-none-any.whl (793 kB)\n",
      "\u001b[K     |████████████████████████████████| 793 kB 998 kB/s eta 0:00:01\n",
      "\u001b[?25hCollecting traitlets>=4.3.1\n",
      "  Downloading traitlets-5.5.0-py3-none-any.whl (107 kB)\n",
      "\u001b[K     |████████████████████████████████| 107 kB 805 kB/s eta 0:00:01\n",
      "\u001b[?25hCollecting widgetsnbextension~=4.0\n",
      "  Downloading widgetsnbextension-4.0.3-py3-none-any.whl (2.0 MB)\n",
      "\u001b[K     |████████████████████████████████| 2.0 MB 883 kB/s eta 0:00:01\n",
      "\u001b[?25hCollecting jupyterlab-widgets~=3.0\n",
      "  Downloading jupyterlab_widgets-3.0.3-py3-none-any.whl (384 kB)\n",
      "\u001b[K     |████████████████████████████████| 384 kB 1.2 MB/s eta 0:00:01\n",
      "\u001b[?25hCollecting ipykernel>=4.5.1\n",
      "  Downloading ipykernel-6.16.2-py3-none-any.whl (138 kB)\n",
      "\u001b[K     |████████████████████████████████| 138 kB 305 kB/s eta 0:00:01\n",
      "\u001b[?25hCollecting appnope\n",
      "  Downloading appnope-0.1.3-py2.py3-none-any.whl (4.4 kB)\n",
      "Collecting packaging\n",
      "  Using cached packaging-21.3-py3-none-any.whl (40 kB)\n",
      "Collecting psutil\n",
      "  Downloading psutil-5.9.3-cp37-cp37m-macosx_10_9_x86_64.whl (242 kB)\n",
      "\u001b[K     |████████████████████████████████| 242 kB 705 kB/s eta 0:00:01\n",
      "\u001b[?25hCollecting pyzmq>=17\n",
      "  Downloading pyzmq-24.0.1-cp37-cp37m-macosx_10_9_x86_64.whl (1.2 MB)\n",
      "\u001b[K     |████████████████████████████████| 1.2 MB 426 kB/s eta 0:00:01\n",
      "\u001b[?25hCollecting matplotlib-inline>=0.1\n",
      "  Downloading matplotlib_inline-0.1.6-py3-none-any.whl (9.4 kB)\n",
      "Collecting debugpy>=1.0\n",
      "  Downloading debugpy-1.6.3-cp37-cp37m-macosx_10_15_x86_64.whl (1.7 MB)\n",
      "\u001b[K     |████████████████████████████████| 1.7 MB 743 kB/s eta 0:00:01\n",
      "\u001b[?25hCollecting jupyter-client>=6.1.12\n",
      "  Downloading jupyter_client-7.4.4-py3-none-any.whl (132 kB)\n",
      "\u001b[K     |████████████████████████████████| 132 kB 709 kB/s eta 0:00:01\n",
      "\u001b[?25hCollecting nest-asyncio\n",
      "  Downloading nest_asyncio-1.5.6-py3-none-any.whl (5.2 kB)\n",
      "Collecting tornado>=6.1\n",
      "  Downloading tornado-6.2-cp37-abi3-macosx_10_9_x86_64.whl (419 kB)\n",
      "\u001b[K     |████████████████████████████████| 419 kB 1.2 MB/s eta 0:00:01\n",
      "\u001b[?25hCollecting decorator\n",
      "  Downloading decorator-5.1.1-py3-none-any.whl (9.1 kB)\n",
      "Collecting pickleshare\n",
      "  Using cached pickleshare-0.7.5-py2.py3-none-any.whl (6.9 kB)\n",
      "Collecting pygments\n",
      "  Downloading Pygments-2.13.0-py3-none-any.whl (1.1 MB)\n",
      "\u001b[K     |████████████████████████████████| 1.1 MB 718 kB/s eta 0:00:01\n",
      "\u001b[?25hCollecting backcall\n",
      "  Using cached backcall-0.2.0-py2.py3-none-any.whl (11 kB)\n",
      "Collecting pexpect>4.3\n",
      "  Using cached pexpect-4.8.0-py2.py3-none-any.whl (59 kB)\n",
      "Requirement already satisfied: setuptools>=18.5 in /Users/jamie/opt/anaconda3/envs/pytorch/lib/python3.7/site-packages (from ipython>=6.1.0->ipywidgets) (58.0.4)\n",
      "Collecting prompt-toolkit!=3.0.0,!=3.0.1,<3.1.0,>=2.0.0\n",
      "  Downloading prompt_toolkit-3.0.31-py3-none-any.whl (382 kB)\n",
      "\u001b[K     |████████████████████████████████| 382 kB 436 kB/s eta 0:00:01\n",
      "\u001b[?25hCollecting jedi>=0.16\n",
      "  Downloading jedi-0.18.1-py2.py3-none-any.whl (1.6 MB)\n",
      "\u001b[K     |████████████████████████████████| 1.6 MB 931 kB/s eta 0:00:01\n",
      "\u001b[?25hCollecting parso<0.9.0,>=0.8.0\n",
      "  Downloading parso-0.8.3-py2.py3-none-any.whl (100 kB)\n",
      "\u001b[K     |████████████████████████████████| 100 kB 919 kB/s ta 0:00:01\n",
      "\u001b[?25hCollecting jupyter-core>=4.9.2\n",
      "  Downloading jupyter_core-4.11.2-py3-none-any.whl (88 kB)\n",
      "\u001b[K     |████████████████████████████████| 88 kB 880 kB/s eta 0:00:01\n",
      "\u001b[?25hRequirement already satisfied: python-dateutil>=2.8.2 in /Users/jamie/opt/anaconda3/envs/pytorch/lib/python3.7/site-packages (from jupyter-client>=6.1.12->ipykernel>=4.5.1->ipywidgets) (2.8.2)\n",
      "Collecting entrypoints\n",
      "  Downloading entrypoints-0.4-py3-none-any.whl (5.3 kB)\n",
      "Collecting ptyprocess>=0.5\n",
      "  Downloading ptyprocess-0.7.0-py2.py3-none-any.whl (13 kB)\n",
      "Collecting wcwidth\n",
      "  Using cached wcwidth-0.2.5-py2.py3-none-any.whl (30 kB)\n",
      "Requirement already satisfied: six>=1.5 in /Users/jamie/opt/anaconda3/envs/pytorch/lib/python3.7/site-packages (from python-dateutil>=2.8.2->jupyter-client>=6.1.12->ipykernel>=4.5.1->ipywidgets) (1.16.0)\n",
      "Collecting pyparsing!=3.0.5,>=2.0.2\n",
      "  Downloading pyparsing-3.0.9-py3-none-any.whl (98 kB)\n",
      "\u001b[K     |████████████████████████████████| 98 kB 1.1 MB/s eta 0:00:01\n",
      "\u001b[?25hInstalling collected packages: wcwidth, traitlets, ptyprocess, parso, tornado, pyzmq, pyparsing, pygments, prompt-toolkit, pickleshare, pexpect, nest-asyncio, matplotlib-inline, jupyter-core, jedi, entrypoints, decorator, backcall, appnope, psutil, packaging, jupyter-client, ipython, debugpy, widgetsnbextension, jupyterlab-widgets, ipykernel, ipywidgets\n",
      "  Attempting uninstall: pyparsing\n",
      "    Found existing installation: pyparsing 3.0.5\n",
      "    Uninstalling pyparsing-3.0.5:\n",
      "      Successfully uninstalled pyparsing-3.0.5\n",
      "Successfully installed appnope-0.1.3 backcall-0.2.0 debugpy-1.6.3 decorator-5.1.1 entrypoints-0.4 ipykernel-6.16.2 ipython-7.34.0 ipywidgets-8.0.2 jedi-0.18.1 jupyter-client-7.4.4 jupyter-core-4.11.2 jupyterlab-widgets-3.0.3 matplotlib-inline-0.1.6 nest-asyncio-1.5.6 packaging-21.3 parso-0.8.3 pexpect-4.8.0 pickleshare-0.7.5 prompt-toolkit-3.0.31 psutil-5.9.3 ptyprocess-0.7.0 pygments-2.13.0 pyparsing-3.0.9 pyzmq-24.0.1 tornado-6.2 traitlets-5.5.0 wcwidth-0.2.5 widgetsnbextension-4.0.3\n"
     ]
    }
   ],
   "source": [
    "!pip install ipywidgets"
   ]
  },
  {
   "cell_type": "code",
   "execution_count": 12,
   "metadata": {},
   "outputs": [
    {
     "name": "stdout",
     "output_type": "stream",
     "text": [
      "Collecting torchvision\n",
      "  Downloading torchvision-0.14.0-cp38-cp38-macosx_10_9_x86_64.whl (1.4 MB)\n",
      "\u001b[K     |████████████████████████████████| 1.4 MB 624 kB/s eta 0:00:01\n",
      "\u001b[?25hRequirement already satisfied: numpy in /Users/jamie/opt/anaconda3/lib/python3.8/site-packages (from torchvision) (1.20.3)\n",
      "Requirement already satisfied: typing-extensions in /Users/jamie/opt/anaconda3/lib/python3.8/site-packages (from torchvision) (4.4.0)\n",
      "Requirement already satisfied: requests in /Users/jamie/opt/anaconda3/lib/python3.8/site-packages (from torchvision) (2.27.1)\n",
      "Requirement already satisfied: pillow!=8.3.*,>=5.3.0 in /Users/jamie/opt/anaconda3/lib/python3.8/site-packages (from torchvision) (9.3.0)\n",
      "Requirement already satisfied: torch==1.13.0 in /Users/jamie/opt/anaconda3/lib/python3.8/site-packages (from torchvision) (1.13.0)\n",
      "Requirement already satisfied: idna<4,>=2.5 in /Users/jamie/opt/anaconda3/lib/python3.8/site-packages (from requests->torchvision) (3.3)\n",
      "Requirement already satisfied: certifi>=2017.4.17 in /Users/jamie/opt/anaconda3/lib/python3.8/site-packages (from requests->torchvision) (2021.10.8)\n",
      "Requirement already satisfied: charset-normalizer~=2.0.0 in /Users/jamie/opt/anaconda3/lib/python3.8/site-packages (from requests->torchvision) (2.0.4)\n",
      "Requirement already satisfied: urllib3<1.27,>=1.21.1 in /Users/jamie/opt/anaconda3/lib/python3.8/site-packages (from requests->torchvision) (1.26.12)\n",
      "Installing collected packages: torchvision\n",
      "Successfully installed torchvision-0.14.0\n",
      "\u001b[33mWARNING: You are using pip version 21.3.1; however, version 22.3 is available.\n",
      "You should consider upgrading via the '/Users/jamie/opt/anaconda3/bin/python -m pip install --upgrade pip' command.\u001b[0m\n"
     ]
    }
   ],
   "source": [
    "! pip install torchvision"
   ]
  },
  {
   "cell_type": "code",
   "execution_count": 21,
   "metadata": {},
   "outputs": [
    {
     "name": "stdout",
     "output_type": "stream",
     "text": [
      "# conda environments:\r\n",
      "#\r\n",
      "base                  *  /Users/jamie/opt/anaconda3\r\n",
      "RecSys                   /Users/jamie/opt/anaconda3/envs/RecSys\r\n",
      "pytorch                  /Users/jamie/opt/anaconda3/envs/pytorch\r\n",
      "\r\n"
     ]
    }
   ],
   "source": [
    "!conda info --envs"
   ]
  },
  {
   "cell_type": "code",
   "execution_count": 24,
   "metadata": {},
   "outputs": [
    {
     "name": "stdout",
     "output_type": "stream",
     "text": [
      "no change     /Users/jamie/opt/anaconda3/condabin/conda\r\n",
      "no change     /Users/jamie/opt/anaconda3/bin/conda\r\n",
      "no change     /Users/jamie/opt/anaconda3/bin/conda-env\r\n",
      "no change     /Users/jamie/opt/anaconda3/bin/activate\r\n",
      "no change     /Users/jamie/opt/anaconda3/bin/deactivate\r\n",
      "no change     /Users/jamie/opt/anaconda3/etc/profile.d/conda.sh\r\n",
      "no change     /Users/jamie/opt/anaconda3/etc/fish/conf.d/conda.fish\r\n",
      "no change     /Users/jamie/opt/anaconda3/shell/condabin/Conda.psm1\r\n",
      "modified      /Users/jamie/opt/anaconda3/shell/condabin/conda-hook.ps1\r\n",
      "no change     /Users/jamie/opt/anaconda3/lib/python3.8/site-packages/xontrib/conda.xsh\r\n",
      "no change     /Users/jamie/opt/anaconda3/etc/profile.d/conda.csh\r\n",
      "modified      /Users/jamie/.bash_profile\r\n",
      "\r\n",
      "==> For changes to take effect, close and re-open your current shell. <==\r\n",
      "\r\n"
     ]
    }
   ],
   "source": [
    "!conda init"
   ]
  },
  {
   "cell_type": "code",
   "execution_count": 26,
   "metadata": {},
   "outputs": [
    {
     "name": "stdout",
     "output_type": "stream",
     "text": [
      "\r\n",
      "CommandNotFoundError: Your shell has not been properly configured to use 'conda activate'.\r\n",
      "To initialize your shell, run\r\n",
      "\r\n",
      "    $ conda init <SHELL_NAME>\r\n",
      "\r\n",
      "Currently supported shells are:\r\n",
      "  - bash\r\n",
      "  - fish\r\n",
      "  - tcsh\r\n",
      "  - xonsh\r\n",
      "  - zsh\r\n",
      "  - powershell\r\n",
      "\r\n",
      "See 'conda init --help' for more information and options.\r\n",
      "\r\n",
      "IMPORTANT: You may need to close and restart your shell after running 'conda init'.\r\n",
      "\r\n",
      "\r\n"
     ]
    }
   ],
   "source": [
    "!conda activate pytorch"
   ]
  },
  {
   "cell_type": "code",
   "execution_count": 34,
   "metadata": {},
   "outputs": [
    {
     "data": {
      "text/plain": [
       "'0.8.0a0'"
      ]
     },
     "execution_count": 34,
     "metadata": {},
     "output_type": "execute_result"
    }
   ],
   "source": [
    "import torchvision\n",
    "torchvision.__version__"
   ]
  },
  {
   "cell_type": "code",
   "execution_count": 35,
   "metadata": {},
   "outputs": [
    {
     "name": "stdout",
     "output_type": "stream",
     "text": [
      "# conda environments:\r\n",
      "#\r\n",
      "base                  *  /Users/jamie/opt/anaconda3\r\n",
      "RecSys                   /Users/jamie/opt/anaconda3/envs/RecSys\r\n",
      "pytorch                  /Users/jamie/opt/anaconda3/envs/pytorch\r\n",
      "\r\n"
     ]
    }
   ],
   "source": [
    "!conda info --envs"
   ]
  },
  {
   "cell_type": "code",
   "execution_count": 38,
   "metadata": {},
   "outputs": [
    {
     "name": "stdout",
     "output_type": "stream",
     "text": [
      "\r\n",
      "CommandNotFoundError: Your shell has not been properly configured to use 'conda activate'.\r\n",
      "To initialize your shell, run\r\n",
      "\r\n",
      "    $ conda init <SHELL_NAME>\r\n",
      "\r\n",
      "Currently supported shells are:\r\n",
      "  - bash\r\n",
      "  - fish\r\n",
      "  - tcsh\r\n",
      "  - xonsh\r\n",
      "  - zsh\r\n",
      "  - powershell\r\n",
      "\r\n",
      "See 'conda init --help' for more information and options.\r\n",
      "\r\n",
      "IMPORTANT: You may need to close and restart your shell after running 'conda init'.\r\n",
      "\r\n",
      "\r\n"
     ]
    }
   ],
   "source": [
    "!conda activate pytorch"
   ]
  },
  {
   "cell_type": "code",
   "execution_count": 37,
   "metadata": {},
   "outputs": [
    {
     "name": "stdout",
     "output_type": "stream",
     "text": [
      "no change     /Users/jamie/opt/anaconda3/condabin/conda\r\n",
      "no change     /Users/jamie/opt/anaconda3/bin/conda\r\n",
      "no change     /Users/jamie/opt/anaconda3/bin/conda-env\r\n",
      "no change     /Users/jamie/opt/anaconda3/bin/activate\r\n",
      "no change     /Users/jamie/opt/anaconda3/bin/deactivate\r\n",
      "no change     /Users/jamie/opt/anaconda3/etc/profile.d/conda.sh\r\n",
      "no change     /Users/jamie/opt/anaconda3/etc/fish/conf.d/conda.fish\r\n",
      "no change     /Users/jamie/opt/anaconda3/shell/condabin/Conda.psm1\r\n",
      "no change     /Users/jamie/opt/anaconda3/shell/condabin/conda-hook.ps1\r\n",
      "no change     /Users/jamie/opt/anaconda3/lib/python3.8/site-packages/xontrib/conda.xsh\r\n",
      "no change     /Users/jamie/opt/anaconda3/etc/profile.d/conda.csh\r\n",
      "no change     /Users/jamie/.zshrc\r\n",
      "No action taken.\r\n"
     ]
    }
   ],
   "source": [
    "!conda init zsh"
   ]
  },
  {
   "cell_type": "code",
   "execution_count": null,
   "metadata": {},
   "outputs": [],
   "source": []
  }
 ],
 "metadata": {
  "kernelspec": {
   "display_name": "Python 3",
   "language": "python",
   "name": "python3"
  },
  "language_info": {
   "codemirror_mode": {
    "name": "ipython",
    "version": 3
   },
   "file_extension": ".py",
   "mimetype": "text/x-python",
   "name": "python",
   "nbconvert_exporter": "python",
   "pygments_lexer": "ipython3",
   "version": "3.8.2"
  }
 },
 "nbformat": 4,
 "nbformat_minor": 5
}
